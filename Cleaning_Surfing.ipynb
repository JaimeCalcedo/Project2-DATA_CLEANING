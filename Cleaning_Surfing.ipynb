{
 "cells": [
  {
   "cell_type": "code",
   "execution_count": 6,
   "metadata": {},
   "outputs": [],
   "source": [
    "import pandas as pd\n",
    "import numpy as np\n",
    "import seaborn as sns\n",
    "import matplotlib as mpl"
   ]
  },
  {
   "cell_type": "code",
   "execution_count": 43,
   "metadata": {},
   "outputs": [],
   "source": [
    "data = pd.read_csv(\"../Data/attacks.csv\", encoding = \"cp1252\")"
   ]
  },
  {
   "cell_type": "code",
   "execution_count": 44,
   "metadata": {},
   "outputs": [],
   "source": [
    "#Firstly I´m going to drop the duplicates\n",
    "data2 = data.drop_duplicates()"
   ]
  },
  {
   "cell_type": "code",
   "execution_count": 45,
   "metadata": {},
   "outputs": [],
   "source": [
    "#I´m going to drop the useless rows with many NaNs (more than 5) \n",
    "data3 = data2.dropna(thresh = 5, axis=0)"
   ]
  },
  {
   "cell_type": "code",
   "execution_count": 46,
   "metadata": {},
   "outputs": [],
   "source": [
    "#I also want to remove the number of columns that have a majority of NaNs. \n",
    "data4 = data3.dropna(thresh = len(data3) - 1000, axis=1)"
   ]
  },
  {
   "cell_type": "code",
   "execution_count": 47,
   "metadata": {},
   "outputs": [],
   "source": [
    "#Now its time to get rid of everything except the things I need to determine if my hypothesis its true or not. \n",
    "#HYPOTHESIS: mortality on a shark attack rises when doing certain activities:surfing. \n",
    "data5 = data4.drop([\"Case Number\", \"Year\", \"Area\", \"Location\", \"Type\", \"Country\", \"Name\", \"Sex \", \"Injury\", \"Investigator or Source\", \"pdf\", \"href formula\", \"href\", \"Case Number.1\", \"Case Number.2\", \"original order\"], axis=1)"
   ]
  },
  {
   "cell_type": "code",
   "execution_count": 48,
   "metadata": {},
   "outputs": [
    {
     "data": {
      "text/plain": [
       "Date             0\n",
       "Activity       544\n",
       "Fatal (Y/N)    539\n",
       "dtype: int64"
      ]
     },
     "execution_count": 48,
     "metadata": {},
     "output_type": "execute_result"
    }
   ],
   "source": [
    "#Now let´s see how many null elements we have in each one of the two variables. \n",
    "data5.isnull().sum()\n",
    "#We can see there is a bunch of them, lets deal with them. "
   ]
  },
  {
   "cell_type": "code",
   "execution_count": 49,
   "metadata": {},
   "outputs": [
    {
     "data": {
      "text/plain": [
       "N          4293\n",
       "Y          1388\n",
       "UNKNOWN      71\n",
       " N            7\n",
       "2017          1\n",
       "N             1\n",
       "y             1\n",
       "M             1\n",
       "Name: Fatal (Y/N), dtype: int64"
      ]
     },
     "execution_count": 49,
     "metadata": {},
     "output_type": "execute_result"
    }
   ],
   "source": [
    "#Let´s see what are those null values\n",
    "data5[\"Fatal (Y/N)\"].value_counts()"
   ]
  },
  {
   "cell_type": "code",
   "execution_count": 50,
   "metadata": {},
   "outputs": [],
   "source": [
    "#We are going to correct the human error.\n",
    "data5[\"Fatal (Y/N)\"].replace(to_replace=\" N\", value=\"N\", inplace=True)\n",
    "data5[\"Fatal (Y/N)\"].replace(to_replace=\"y\", value=\"Y\", inplace=True)\n",
    "data5[\"Fatal (Y/N)\"].replace(to_replace=\"N \", value=\"N\", inplace=True)\n",
    "data5[\"Fatal (Y/N)\"].replace(to_replace=\"M\", value=\"N\", inplace=True)\n",
    "data5[\"Fatal (Y/N)\"].replace(to_replace=\"UNKNOWN\", value=\"NaN\", inplace=True)\n",
    "data5[\"Fatal (Y/N)\"].replace(to_replace=\"2017\", value=\"NaN\", inplace=True)"
   ]
  },
  {
   "cell_type": "code",
   "execution_count": 51,
   "metadata": {},
   "outputs": [
    {
     "data": {
      "text/plain": [
       "N      4302\n",
       "Y      1389\n",
       "NaN      72\n",
       "Name: Fatal (Y/N), dtype: int64"
      ]
     },
     "execution_count": 51,
     "metadata": {},
     "output_type": "execute_result"
    }
   ],
   "source": [
    "data5[\"Fatal (Y/N)\"].value_counts()"
   ]
  },
  {
   "cell_type": "code",
   "execution_count": 52,
   "metadata": {},
   "outputs": [],
   "source": [
    "#Now we have the null values located, let´s eliminate those rows, they won´t be useful for our analysis. \n",
    "#We eliminate any row with a null value. \n",
    "data6 = data5.dropna(how=\"any\", axis=0)"
   ]
  },
  {
   "cell_type": "code",
   "execution_count": 53,
   "metadata": {},
   "outputs": [],
   "source": [
    "#This is basically our DataFrame to corroborate our Hypothesis.\n",
    "#Let´s reset the index, to have the DataFrame ordered.\n",
    "data7 = data6.reset_index()"
   ]
  },
  {
   "cell_type": "code",
   "execution_count": 54,
   "metadata": {},
   "outputs": [],
   "source": [
    "#Finally let´s eliminate the old index\n",
    "data8 = data7.drop([\"index\"], axis =1)"
   ]
  },
  {
   "cell_type": "code",
   "execution_count": 55,
   "metadata": {},
   "outputs": [],
   "source": [
    "#Now I´m going to try and substitute every activity except surfing with the string \"Other than surfing\"\n",
    "data8.Activity.loc[(data8[\"Activity\"] != \"Surfing\")] = \"Other than surfing\""
   ]
  },
  {
   "cell_type": "code",
   "execution_count": 56,
   "metadata": {},
   "outputs": [],
   "source": [
    "data9 = data8.drop(data8[data8[\"Fatal (Y/N)\"] == \"NaN\"].index)"
   ]
  },
  {
   "cell_type": "code",
   "execution_count": 57,
   "metadata": {},
   "outputs": [
    {
     "data": {
      "text/html": [
       "<div>\n",
       "<style scoped>\n",
       "    .dataframe tbody tr th:only-of-type {\n",
       "        vertical-align: middle;\n",
       "    }\n",
       "\n",
       "    .dataframe tbody tr th {\n",
       "        vertical-align: top;\n",
       "    }\n",
       "\n",
       "    .dataframe thead th {\n",
       "        text-align: right;\n",
       "    }\n",
       "</style>\n",
       "<table border=\"1\" class=\"dataframe\">\n",
       "  <thead>\n",
       "    <tr style=\"text-align: right;\">\n",
       "      <th></th>\n",
       "      <th>Date</th>\n",
       "      <th>Activity</th>\n",
       "      <th>Fatal (Y/N)</th>\n",
       "    </tr>\n",
       "  </thead>\n",
       "  <tbody>\n",
       "    <tr>\n",
       "      <th>0</th>\n",
       "      <td>25-Jun-2018</td>\n",
       "      <td>Other than surfing</td>\n",
       "      <td>N</td>\n",
       "    </tr>\n",
       "    <tr>\n",
       "      <th>1</th>\n",
       "      <td>18-Jun-2018</td>\n",
       "      <td>Other than surfing</td>\n",
       "      <td>N</td>\n",
       "    </tr>\n",
       "    <tr>\n",
       "      <th>2</th>\n",
       "      <td>09-Jun-2018</td>\n",
       "      <td>Surfing</td>\n",
       "      <td>N</td>\n",
       "    </tr>\n",
       "    <tr>\n",
       "      <th>3</th>\n",
       "      <td>08-Jun-2018</td>\n",
       "      <td>Surfing</td>\n",
       "      <td>N</td>\n",
       "    </tr>\n",
       "    <tr>\n",
       "      <th>4</th>\n",
       "      <td>04-Jun-2018</td>\n",
       "      <td>Other than surfing</td>\n",
       "      <td>N</td>\n",
       "    </tr>\n",
       "    <tr>\n",
       "      <th>...</th>\n",
       "      <td>...</td>\n",
       "      <td>...</td>\n",
       "      <td>...</td>\n",
       "    </tr>\n",
       "    <tr>\n",
       "      <th>5339</th>\n",
       "      <td>Before 1906</td>\n",
       "      <td>Other than surfing</td>\n",
       "      <td>Y</td>\n",
       "    </tr>\n",
       "    <tr>\n",
       "      <th>5340</th>\n",
       "      <td>Before 1903</td>\n",
       "      <td>Other than surfing</td>\n",
       "      <td>Y</td>\n",
       "    </tr>\n",
       "    <tr>\n",
       "      <th>5341</th>\n",
       "      <td>Before 1903</td>\n",
       "      <td>Other than surfing</td>\n",
       "      <td>Y</td>\n",
       "    </tr>\n",
       "    <tr>\n",
       "      <th>5342</th>\n",
       "      <td>1900-1905</td>\n",
       "      <td>Other than surfing</td>\n",
       "      <td>Y</td>\n",
       "    </tr>\n",
       "    <tr>\n",
       "      <th>5343</th>\n",
       "      <td>1845-1853</td>\n",
       "      <td>Other than surfing</td>\n",
       "      <td>Y</td>\n",
       "    </tr>\n",
       "  </tbody>\n",
       "</table>\n",
       "<p>5307 rows × 3 columns</p>\n",
       "</div>"
      ],
      "text/plain": [
       "             Date            Activity Fatal (Y/N)\n",
       "0     25-Jun-2018  Other than surfing           N\n",
       "1     18-Jun-2018  Other than surfing           N\n",
       "2     09-Jun-2018             Surfing           N\n",
       "3     08-Jun-2018             Surfing           N\n",
       "4     04-Jun-2018  Other than surfing           N\n",
       "...           ...                 ...         ...\n",
       "5339  Before 1906  Other than surfing           Y\n",
       "5340  Before 1903  Other than surfing           Y\n",
       "5341  Before 1903  Other than surfing           Y\n",
       "5342    1900-1905  Other than surfing           Y\n",
       "5343    1845-1853  Other than surfing           Y\n",
       "\n",
       "[5307 rows x 3 columns]"
      ]
     },
     "execution_count": 57,
     "metadata": {},
     "output_type": "execute_result"
    }
   ],
   "source": [
    "data9"
   ]
  },
  {
   "cell_type": "code",
   "execution_count": 58,
   "metadata": {},
   "outputs": [],
   "source": [
    "data10 = data9.reset_index()"
   ]
  },
  {
   "cell_type": "code",
   "execution_count": 59,
   "metadata": {},
   "outputs": [],
   "source": [
    "data11 = data10.drop([\"index\"], axis = 1)"
   ]
  },
  {
   "cell_type": "code",
   "execution_count": 60,
   "metadata": {},
   "outputs": [],
   "source": [
    "final_data = data11"
   ]
  },
  {
   "cell_type": "code",
   "execution_count": 61,
   "metadata": {},
   "outputs": [],
   "source": [
    "final_data.to_csv(r\"final_data.csv\")"
   ]
  },
  {
   "cell_type": "code",
   "execution_count": null,
   "metadata": {},
   "outputs": [],
   "source": []
  }
 ],
 "metadata": {
  "kernelspec": {
   "display_name": "Python 3",
   "language": "python",
   "name": "python3"
  },
  "language_info": {
   "codemirror_mode": {
    "name": "ipython",
    "version": 3
   },
   "file_extension": ".py",
   "mimetype": "text/x-python",
   "name": "python",
   "nbconvert_exporter": "python",
   "pygments_lexer": "ipython3",
   "version": "3.8.5"
  }
 },
 "nbformat": 4,
 "nbformat_minor": 4
}
